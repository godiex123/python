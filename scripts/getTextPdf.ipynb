{
 "cells": [
  {
   "cell_type": "markdown",
   "metadata": {},
   "source": [
    "# Extraccion datos PDF (Despiece motor)  "
   ]
  },
  {
   "cell_type": "code",
   "execution_count": 63,
   "metadata": {},
   "outputs": [],
   "source": [
    "import pdfplumber\n",
    "import re\n",
    "import csv"
   ]
  },
  {
   "cell_type": "code",
   "execution_count": 64,
   "metadata": {},
   "outputs": [],
   "source": [
    "def extraerCabecera(data):\n",
    "    cabecera = list()\n",
    "    div = data.split(\" \")\n",
    "    for i in range(0, len(div)):\n",
    "        if i == 1:\n",
    "            column = div[i]\n",
    "        elif i == 2:\n",
    "            column = column + ' ' + div[i]\n",
    "            cabecera.append(column)\n",
    "        elif div[i] == 'MODEL/TYPE' or div[i] == 'FN' or div[i] == 'MEASUREMENT' or div[i] == 'STANDARD':\n",
    "            continue\n",
    "        else:\n",
    "            cabecera.append(div[i])\n",
    "    return cabecera\n",
    "    \n",
    "def extraerCuerpo(data):\n",
    "    grupos = []\n",
    "    txt = re.search(r\"^([0-9]+)\\s([0-9]+)\\s(.{1,}\\w?)\\s([1-9]+\\.[0-9]+|\\d{1,4})\\s(PC)\\s?(.{1,}G|KG| )?\", data)\n",
    "    for i in range(1,7):\n",
    "        try:\n",
    "            grupos.append(txt.group(i))\n",
    "        except AttributeError:\n",
    "            grupos.append('')\n",
    "    return grupos  "
   ]
  },
  {
   "cell_type": "code",
   "execution_count": 65,
   "metadata": {
    "tags": [
     "outputPrepend"
    ]
   },
   "outputs": [
    {
     "output_type": "stream",
     "name": "stdout",
     "text": "{'CRANKCASE': [['POS.', 'PART NO.', 'DESIGNATION', 'QTY.', 'UNITS', 'WEIGHT'], ['1', '735084050000', 'PLUG ', '1.000', 'PC', '103,600 G'], ['2', '700429055001', 'O-RING ', '1.000', 'PC', '8,110 G'], ['3', '700429042000', 'O-RING ', '1.000', 'PC', '6,400 G'], ['4', '700429018005', 'O-RING ', '8.000', 'PC', '1,900 G'], ['5', '5269970345', 'SEAL STRIP ', '1.000', 'PC', '145 G'], ['6', '5260101605', 'CRANKCASE ', '1.000', 'PC', '1.611 KG'], ['7', '5260101114', 'COVER ', '1.000', 'PC', None], ['8', '5249950059', 'STRAP ', '1.000', 'PC', '72 G'], ['9', '5240111380', 'GASKET ', '5.000', 'PC', None], ['10', '5240110732', 'COVER CYL BLOCK ACCESS PORT ', '5.000', 'PC', '2,740 KG'], ['11', '5240110440', 'FILLER PIECE STRIP ', '1.000', 'PC', '2,900 KG'], ['12', '5240110159', 'RING CYL LINER CARBON REMOVAL ', '12.000', 'PC', '216 G'], ['13', '007603014102', 'WASHER A COP ', '1.000', 'PC', '1,100 G'], ['14', '007349010002', 'WASHER ', '1.000', 'PC', '11,130 G'], ['15', '0049976736', 'VALVE DRAIN M18X1.5 X M16X1.5 ', '2.000', 'PC', '113 G'], ['16', '000933010198', 'BOLT HEX ', '1.000', 'PC', '20,080 G'], ['17', '000933010093', 'BOLT HEX S2000/4000 ', '24.000', 'PC', '28,600 G'], ['18', '000933010089', 'BOLT HEX S2000/4000 ', '1.000', 'PC', '21 G'], ['19', '000933010035', 'BOLT HEX S2000/4000 ', '35.000', 'PC', '2,300 G'], ['20', '000912008115', 'BOLT HEX SOC HD ', '2.000', 'PC', '12 G'], ['21', '000908014001', 'SCREW PLUG ', '1.000', 'PC', '16,600 G'], ['22', '000835010056', 'STUD ', '8.000', 'PC', '23,160 G'], ['23', '000125010524', 'WASHER ', '24.000', 'PC', '2,300 G'], ['5', '5260111501', 'CRANKCASE ', '1', 'PC', None], ['10', '5240110111', 'CAP MAIN BEARING NARROW STD POSITION ', '6', 'PC', '12,214 KG'], ['15', '5240110511', 'BEARING CAP MAIN ', '1', 'PC', '14,162 KG'], ['20', '5240110570', 'STUD ', '14', 'PC', '1,090 KG'], ['25', '5240110172', 'NUT ', '14', 'PC', None], ['30', '000912018008', 'BOLT HEX SOC HD ', '14', 'PC', '401 G'], ['35', '700521018201', 'WASHER ', '14', 'PC', '14,880 G'], ['40', '5249970020', 'CAP SEALING S2000/S4000 ', '24', 'PC', None], ['50', '5240510110', 'BEARING CAMSHAFT STD ', '7', 'PC', '137 G'], ['60', '5240510210', 'CAMSHAFT BEARING SIZE 1-0 ', '1', 'PC', '150 G'], ['70', '5240114210', 'CYLINDER LINER SIZE 0 ', '12', 'PC', '16,800 KG'], ['80', '5240114410', 'LINER CYLINDER STAGE 1 ', '1', 'PC', None], ['90', '5240114510', 'LINER CYLINDER STAGE 2 ', '1', 'PC', '16,980 KG'], ['100', '5550110259', 'SEALING RING ', '24', 'PC', '24,800 G']], 'CVR CYL INSP PORT REM MT 8V HE/REM MT 12': [['POS.', 'PART NO.', 'DESIGNATION', 'QTY.', 'UNITS', 'WEIGHT'], ['1', '5240111380', 'GASKET ', '3.000', 'PC', None], ['2', '5240110732', 'COVER CYL BLOCK ACCESS PORT ', '3.000', 'PC', '2,740 KG'], ['3', '000933010035', 'BOLT HEX S2000/4000 ', '21.000', 'PC', '2,300 G']], 'OIL FILLER NECK': [['POS.', 'PART NO.', 'DESIGNATION', 'QTY.', 'UNITS', 'WEIGHT'], ['1', '5319974272', 'FITTING ', '1.000', 'PC', '100 G'], ['2', '5240180616', 'TUBE ASM OIL GAUGE ', '1.000', 'PC', '86 G'], ['3', '5240111380', 'GASKET ', '1.000', 'PC', None], ['5', '23540055', 'DIPSTICK ', '1.000', 'PC', '223 G'], ['6', '000933010035', 'BOLT HEX S2000/4000 ', '7.000', 'PC', '2,300 G'], ['8', '23540042', 'COVER ASM ', '1.000', 'PC', '4,280 KG']], 'OIL PAN FLAT (NPTF)': [['POS.', 'PART NO.', 'DESIGNATION', 'QTY.', 'UNITS', 'WEIGHT'], ['2', '5269870535', 'SEAL RUBBER STRIP 3629.0 ', '1.000', 'PC', '426 G'], ['3', '5240140253', 'SPACER SLEEVE ', '18.000', 'PC', '103 G'], ['4', '5240140153', 'SPACER SLEEVE ', '8.000', 'PC', '61 G'], ['5', '5240140045', 'FLANGE ', '6.000', 'PC', '339,800 G'], ['6', '5240111480', 'GASKET ', '6.000', 'PC', '9 G'], ['8', '23524783', 'WASHER SEAL ', '2.000', 'PC', '45 G'], ['9', '05103185', 'PLUG ', '6.000', 'PC', '130 G'], ['', '', '', '', '', ''], ['', '', '', '', '', ''], ['13', '000912010038', 'SCREW ', '12.000', 'PC', '27 G'], ['14', '000931010142', 'BOLT HEX ', '26.000', 'PC', '62 G'], ['', '', '', '', '', ''], ['', '', '', '', '', ''], ['17', '000908012003', 'PLUG ', '2.000', 'PC', '11,800 G'], ['', '', '', '', '', '']]}\n"
    }
   ],
   "source": [
    "pdf_file = \"data.pdf\"\n",
    "tables={}\n",
    "otro = []\n",
    "upc = ['CRANKCASE', 'CVR CYL INSP PORT REM MT 8V HE/REM MT 12','OIL FILLER NECK', 'OIL PAN FLAT (NPTF)']\n",
    "with pdfplumber.open(pdf_file) as pdf:\n",
    "    pages = pdf.pages\n",
    "    for i in range(20):#enumerate(pages):\n",
    "        txt = pages[i].extract_text()\n",
    "        sub = re.search(r\".{1,15}([a-zA-Z0-9].{1,})\\S[A-Z]\\/\", txt)\n",
    "        kw = str(sub.group(1)[:-1])\n",
    "        try:\n",
    "            data = pages[i].extract_tables()[0]\n",
    "            if kw in upc:\n",
    "                if kw in tables:\n",
    "                    for z in data[1:]:\n",
    "                        salida = extraerCuerpo(z[0])\n",
    "                        tables[kw].append(salida)\n",
    "                else:\n",
    "                    cabecera = extraerCabecera(data[0][0])\n",
    "                    tables[kw] = [cabecera]\n",
    "                    for z in data[1:]:\n",
    "                        salida = extraerCuerpo(z[0])\n",
    "                        tables[kw].append(salida)\n",
    "        except IndexError:\n",
    "            continue\n",
    "print(tables)\n",
    "#for kw in tables:\n",
    "#    word = str(kw)\n",
    "#    word = word.replace(\" \", \"_\")\n",
    "#    word = word.replace(\"/\", \"_\")\n",
    "#    with open(word + '.csv', mode=\"w\") as csv_file:\n",
    "#        writer = csv.writer(csv_file, delimiter=';', quotechar='\"', quoting=csv.QUOTE_MINIMAL)\n",
    "#\n",
    "#        for row in tables[kw]:\n",
    "#            writer.writerow(row)\n",
    "\n",
    "#   POS     PART NRO    DESIGN          QTY                 UNIT      WEIGHT\n",
    "#^([0-9]+)\\s([0-9]+)\\s(.{1,}\\w?)\\s([1-9]+\\.[0-9]+|\\d{1,4})\\s(PC)\\s?(.{1,}G|KG| )?"
   ]
  },
  {
   "cell_type": "code",
   "execution_count": null,
   "metadata": {},
   "outputs": [],
   "source": []
  }
 ],
 "metadata": {
  "language_info": {
   "codemirror_mode": {
    "name": "ipython",
    "version": 3
   },
   "file_extension": ".py",
   "mimetype": "text/x-python",
   "name": "python",
   "nbconvert_exporter": "python",
   "pygments_lexer": "ipython3",
   "version": "3.8.2-final"
  },
  "orig_nbformat": 2,
  "kernelspec": {
   "name": "python38264bita22b11a83284475d8df3069c7f837500",
   "display_name": "Python 3.8.2 64-bit"
  }
 },
 "nbformat": 4,
 "nbformat_minor": 2
}